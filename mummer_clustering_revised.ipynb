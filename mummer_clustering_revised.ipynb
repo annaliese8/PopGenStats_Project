{
 "cells": [
  {
   "cell_type": "code",
   "execution_count": 88,
   "metadata": {
    "tags": []
   },
   "outputs": [],
   "source": [
    "import seaborn as sns\n",
    "import matplotlib.pyplot as plt\n",
    "import pandas as pd\n",
    "import numpy as np\n",
    "from scipy.cluster.hierarchy import linkage, dendrogram, fcluster, ward, average, leaves_list\n",
    "from scipy.spatial.distance import pdist"
   ]
  },
  {
   "cell_type": "code",
   "execution_count": 89,
   "metadata": {
    "tags": []
   },
   "outputs": [
    {
     "data": {
      "text/html": [
       "<div>\n",
       "<style scoped>\n",
       "    .dataframe tbody tr th:only-of-type {\n",
       "        vertical-align: middle;\n",
       "    }\n",
       "\n",
       "    .dataframe tbody tr th {\n",
       "        vertical-align: top;\n",
       "    }\n",
       "\n",
       "    .dataframe thead th {\n",
       "        text-align: right;\n",
       "    }\n",
       "</style>\n",
       "<table border=\"1\" class=\"dataframe\">\n",
       "  <thead>\n",
       "    <tr style=\"text-align: right;\">\n",
       "      <th></th>\n",
       "      <th>prc_aligned1</th>\n",
       "      <th>prc_aligned2</th>\n",
       "      <th>avg_identity1</th>\n",
       "      <th>avg_identity2</th>\n",
       "      <th>s1</th>\n",
       "      <th>s2</th>\n",
       "      <th>ss1</th>\n",
       "      <th>ss2</th>\n",
       "      <th>score1</th>\n",
       "      <th>score2</th>\n",
       "    </tr>\n",
       "  </thead>\n",
       "  <tbody>\n",
       "    <tr>\n",
       "      <th>0</th>\n",
       "      <td>98.3926</td>\n",
       "      <td>95.0642</td>\n",
       "      <td>99.6903</td>\n",
       "      <td>99.6903</td>\n",
       "      <td>wdir/blongum/genomes/ncbi_dataset/data/GCA_008...</td>\n",
       "      <td>wdir/blongum/genomes/ncbi_dataset/data/GCA_008...</td>\n",
       "      <td>sample0</td>\n",
       "      <td>sample1</td>\n",
       "      <td>98.087878</td>\n",
       "      <td>94.769786</td>\n",
       "    </tr>\n",
       "    <tr>\n",
       "      <th>1</th>\n",
       "      <td>89.4098</td>\n",
       "      <td>85.5646</td>\n",
       "      <td>98.6762</td>\n",
       "      <td>98.6762</td>\n",
       "      <td>wdir/blongum/genomes/ncbi_dataset/data/GCA_008...</td>\n",
       "      <td>wdir/blongum/genomes/ncbi_dataset/data/GCA_008...</td>\n",
       "      <td>sample0</td>\n",
       "      <td>sample2</td>\n",
       "      <td>88.226193</td>\n",
       "      <td>84.431896</td>\n",
       "    </tr>\n",
       "    <tr>\n",
       "      <th>2</th>\n",
       "      <td>89.4810</td>\n",
       "      <td>86.9017</td>\n",
       "      <td>98.7474</td>\n",
       "      <td>98.7474</td>\n",
       "      <td>wdir/blongum/genomes/ncbi_dataset/data/GCA_008...</td>\n",
       "      <td>wdir/blongum/genomes/ncbi_dataset/data/GCA_008...</td>\n",
       "      <td>sample0</td>\n",
       "      <td>sample3</td>\n",
       "      <td>88.360161</td>\n",
       "      <td>85.813169</td>\n",
       "    </tr>\n",
       "  </tbody>\n",
       "</table>\n",
       "</div>"
      ],
      "text/plain": [
       "   prc_aligned1  prc_aligned2  avg_identity1  avg_identity2  \\\n",
       "0       98.3926       95.0642        99.6903        99.6903   \n",
       "1       89.4098       85.5646        98.6762        98.6762   \n",
       "2       89.4810       86.9017        98.7474        98.7474   \n",
       "\n",
       "                                                  s1  \\\n",
       "0  wdir/blongum/genomes/ncbi_dataset/data/GCA_008...   \n",
       "1  wdir/blongum/genomes/ncbi_dataset/data/GCA_008...   \n",
       "2  wdir/blongum/genomes/ncbi_dataset/data/GCA_008...   \n",
       "\n",
       "                                                  s2      ss1      ss2  \\\n",
       "0  wdir/blongum/genomes/ncbi_dataset/data/GCA_008...  sample0  sample1   \n",
       "1  wdir/blongum/genomes/ncbi_dataset/data/GCA_008...  sample0  sample2   \n",
       "2  wdir/blongum/genomes/ncbi_dataset/data/GCA_008...  sample0  sample3   \n",
       "\n",
       "      score1     score2  \n",
       "0  98.087878  94.769786  \n",
       "1  88.226193  84.431896  \n",
       "2  88.360161  85.813169  "
      ]
     },
     "execution_count": 89,
     "metadata": {},
     "output_type": "execute_result"
    }
   ],
   "source": [
    "# file_path = '/home/ubuntu/wdir/PopGenStats_Project/data/BifidoIsolates/BLongum/mummer.tsv.gz'\n",
    "file_path = '/Users/Annaliese/Desktop/PopGenStats_Project/data/BifidoIsolates/BLongum/mummer.tsv'\n",
    "# file_path = './mummer.tsv'\n",
    "\n",
    "mummer_matrix = pd.read_csv(file_path, sep='\\t', index_col=0)\n",
    "\n",
    "sample_names = sorted(set(mummer_matrix['s1']) | set(mummer_matrix['s2']))\n",
    "mapper = {name: f'sample{idx}' for idx, name in enumerate(sample_names)}\n",
    "\n",
    "mummer_matrix['ss1'] = mummer_matrix['s1'].map(mapper)\n",
    "mummer_matrix['ss2'] = mummer_matrix['s2'].map(mapper)\n",
    "\n",
    "mummer_matrix['score1'] = mummer_matrix['avg_identity1'] * (mummer_matrix['prc_aligned1'] / 100)\n",
    "mummer_matrix['score2'] = mummer_matrix['avg_identity2'] * (mummer_matrix['prc_aligned2'] / 100)\n",
    "\n",
    "mummer_matrix.head(3)"
   ]
  },
  {
   "cell_type": "code",
   "execution_count": 90,
   "metadata": {
    "tags": []
   },
   "outputs": [
    {
     "data": {
      "text/html": [
       "<div>\n",
       "<style scoped>\n",
       "    .dataframe tbody tr th:only-of-type {\n",
       "        vertical-align: middle;\n",
       "    }\n",
       "\n",
       "    .dataframe tbody tr th {\n",
       "        vertical-align: top;\n",
       "    }\n",
       "\n",
       "    .dataframe thead th {\n",
       "        text-align: right;\n",
       "    }\n",
       "</style>\n",
       "<table border=\"1\" class=\"dataframe\">\n",
       "  <thead>\n",
       "    <tr style=\"text-align: right;\">\n",
       "      <th></th>\n",
       "      <th>ss1</th>\n",
       "      <th>ss2</th>\n",
       "      <th>score1</th>\n",
       "      <th>score2</th>\n",
       "    </tr>\n",
       "  </thead>\n",
       "  <tbody>\n",
       "    <tr>\n",
       "      <th>0</th>\n",
       "      <td>sample0</td>\n",
       "      <td>sample0</td>\n",
       "      <td>100.000000</td>\n",
       "      <td>100.000000</td>\n",
       "    </tr>\n",
       "    <tr>\n",
       "      <th>1</th>\n",
       "      <td>sample0</td>\n",
       "      <td>sample1</td>\n",
       "      <td>98.087878</td>\n",
       "      <td>94.769786</td>\n",
       "    </tr>\n",
       "    <tr>\n",
       "      <th>2</th>\n",
       "      <td>sample0</td>\n",
       "      <td>sample2</td>\n",
       "      <td>88.226193</td>\n",
       "      <td>84.431896</td>\n",
       "    </tr>\n",
       "  </tbody>\n",
       "</table>\n",
       "</div>"
      ],
      "text/plain": [
       "       ss1      ss2      score1      score2\n",
       "0  sample0  sample0  100.000000  100.000000\n",
       "1  sample0  sample1   98.087878   94.769786\n",
       "2  sample0  sample2   88.226193   84.431896"
      ]
     },
     "execution_count": 90,
     "metadata": {},
     "output_type": "execute_result"
    }
   ],
   "source": [
    "diagonal_data = []\n",
    "for sample in sample_names:\n",
    "    diagonal_data.append({\n",
    "        'prc_aligned1': 100,\n",
    "        'prc_aligned2': 100,\n",
    "        'avg_identity1': 100,\n",
    "        'avg_identity2': 100,\n",
    "        's1': sample,\n",
    "        's2': sample,\n",
    "        'ss1': mapper[sample],\n",
    "        'ss2': mapper[sample],\n",
    "        'score1': 100,\n",
    "        'score2': 100\n",
    "    })\n",
    "\n",
    "diagonal_df = pd.DataFrame(diagonal_data)\n",
    "mummer_matrix = pd.concat([mummer_matrix, diagonal_df], ignore_index=True)\n",
    "\n",
    "mummer_matrix = mummer_matrix.sort_values(by=['s1', 's2']).reset_index(drop=True)\n",
    "mummer_matrix = mummer_matrix.drop_duplicates(['ss1', 'ss2'])\n",
    "\n",
    "mummer_matrix[['ss1', 'ss2', 'score1', 'score2']].head(3)"
   ]
  },
  {
   "cell_type": "code",
   "execution_count": 91,
   "metadata": {
    "tags": []
   },
   "outputs": [
    {
     "data": {
      "text/html": [
       "<div>\n",
       "<style scoped>\n",
       "    .dataframe tbody tr th:only-of-type {\n",
       "        vertical-align: middle;\n",
       "    }\n",
       "\n",
       "    .dataframe tbody tr th {\n",
       "        vertical-align: top;\n",
       "    }\n",
       "\n",
       "    .dataframe thead th {\n",
       "        text-align: right;\n",
       "    }\n",
       "</style>\n",
       "<table border=\"1\" class=\"dataframe\">\n",
       "  <thead>\n",
       "    <tr style=\"text-align: right;\">\n",
       "      <th>ss2</th>\n",
       "      <th>sample0</th>\n",
       "      <th>sample1</th>\n",
       "      <th>sample10</th>\n",
       "      <th>sample100</th>\n",
       "      <th>sample101</th>\n",
       "      <th>sample102</th>\n",
       "      <th>sample103</th>\n",
       "      <th>sample104</th>\n",
       "      <th>sample105</th>\n",
       "      <th>sample106</th>\n",
       "      <th>...</th>\n",
       "      <th>sample90</th>\n",
       "      <th>sample91</th>\n",
       "      <th>sample92</th>\n",
       "      <th>sample93</th>\n",
       "      <th>sample94</th>\n",
       "      <th>sample95</th>\n",
       "      <th>sample96</th>\n",
       "      <th>sample97</th>\n",
       "      <th>sample98</th>\n",
       "      <th>sample99</th>\n",
       "    </tr>\n",
       "    <tr>\n",
       "      <th>ss1</th>\n",
       "      <th></th>\n",
       "      <th></th>\n",
       "      <th></th>\n",
       "      <th></th>\n",
       "      <th></th>\n",
       "      <th></th>\n",
       "      <th></th>\n",
       "      <th></th>\n",
       "      <th></th>\n",
       "      <th></th>\n",
       "      <th></th>\n",
       "      <th></th>\n",
       "      <th></th>\n",
       "      <th></th>\n",
       "      <th></th>\n",
       "      <th></th>\n",
       "      <th></th>\n",
       "      <th></th>\n",
       "      <th></th>\n",
       "      <th></th>\n",
       "      <th></th>\n",
       "    </tr>\n",
       "  </thead>\n",
       "  <tbody>\n",
       "    <tr>\n",
       "      <th>sample0</th>\n",
       "      <td>100.000000</td>\n",
       "      <td>98.087878</td>\n",
       "      <td>88.203163</td>\n",
       "      <td>80.242080</td>\n",
       "      <td>91.179871</td>\n",
       "      <td>90.484829</td>\n",
       "      <td>89.588683</td>\n",
       "      <td>92.175049</td>\n",
       "      <td>90.142655</td>\n",
       "      <td>91.537330</td>\n",
       "      <td>...</td>\n",
       "      <td>90.998742</td>\n",
       "      <td>89.753708</td>\n",
       "      <td>89.720319</td>\n",
       "      <td>88.185731</td>\n",
       "      <td>91.994612</td>\n",
       "      <td>90.932009</td>\n",
       "      <td>93.036891</td>\n",
       "      <td>81.464259</td>\n",
       "      <td>89.856901</td>\n",
       "      <td>80.196122</td>\n",
       "    </tr>\n",
       "    <tr>\n",
       "      <th>sample1</th>\n",
       "      <td>94.769786</td>\n",
       "      <td>100.000000</td>\n",
       "      <td>86.918832</td>\n",
       "      <td>78.679328</td>\n",
       "      <td>89.585138</td>\n",
       "      <td>88.427648</td>\n",
       "      <td>87.833250</td>\n",
       "      <td>90.317914</td>\n",
       "      <td>88.417367</td>\n",
       "      <td>89.827598</td>\n",
       "      <td>...</td>\n",
       "      <td>89.190980</td>\n",
       "      <td>88.023050</td>\n",
       "      <td>88.347536</td>\n",
       "      <td>86.969942</td>\n",
       "      <td>90.338645</td>\n",
       "      <td>89.506795</td>\n",
       "      <td>91.791948</td>\n",
       "      <td>79.438398</td>\n",
       "      <td>88.078571</td>\n",
       "      <td>78.660824</td>\n",
       "    </tr>\n",
       "    <tr>\n",
       "      <th>sample10</th>\n",
       "      <td>76.578904</td>\n",
       "      <td>78.196800</td>\n",
       "      <td>100.000000</td>\n",
       "      <td>71.557116</td>\n",
       "      <td>80.779340</td>\n",
       "      <td>80.718895</td>\n",
       "      <td>81.383627</td>\n",
       "      <td>79.985415</td>\n",
       "      <td>80.939281</td>\n",
       "      <td>81.535457</td>\n",
       "      <td>...</td>\n",
       "      <td>78.720795</td>\n",
       "      <td>78.821804</td>\n",
       "      <td>82.774017</td>\n",
       "      <td>81.733179</td>\n",
       "      <td>82.477155</td>\n",
       "      <td>83.669160</td>\n",
       "      <td>84.165476</td>\n",
       "      <td>71.538882</td>\n",
       "      <td>80.011405</td>\n",
       "      <td>71.539373</td>\n",
       "    </tr>\n",
       "  </tbody>\n",
       "</table>\n",
       "<p>3 rows × 567 columns</p>\n",
       "</div>"
      ],
      "text/plain": [
       "ss2          sample0     sample1    sample10  sample100  sample101  sample102  \\\n",
       "ss1                                                                             \n",
       "sample0   100.000000   98.087878   88.203163  80.242080  91.179871  90.484829   \n",
       "sample1    94.769786  100.000000   86.918832  78.679328  89.585138  88.427648   \n",
       "sample10   76.578904   78.196800  100.000000  71.557116  80.779340  80.718895   \n",
       "\n",
       "ss2       sample103  sample104  sample105  sample106  ...   sample90  \\\n",
       "ss1                                                   ...              \n",
       "sample0   89.588683  92.175049  90.142655  91.537330  ...  90.998742   \n",
       "sample1   87.833250  90.317914  88.417367  89.827598  ...  89.190980   \n",
       "sample10  81.383627  79.985415  80.939281  81.535457  ...  78.720795   \n",
       "\n",
       "ss2        sample91   sample92   sample93   sample94   sample95   sample96  \\\n",
       "ss1                                                                          \n",
       "sample0   89.753708  89.720319  88.185731  91.994612  90.932009  93.036891   \n",
       "sample1   88.023050  88.347536  86.969942  90.338645  89.506795  91.791948   \n",
       "sample10  78.821804  82.774017  81.733179  82.477155  83.669160  84.165476   \n",
       "\n",
       "ss2        sample97   sample98   sample99  \n",
       "ss1                                        \n",
       "sample0   81.464259  89.856901  80.196122  \n",
       "sample1   79.438398  88.078571  78.660824  \n",
       "sample10  71.538882  80.011405  71.539373  \n",
       "\n",
       "[3 rows x 567 columns]"
      ]
     },
     "execution_count": 91,
     "metadata": {},
     "output_type": "execute_result"
    }
   ],
   "source": [
    "upper_triangle = mummer_matrix.pivot(index='ss1', columns='ss2', values='score1').fillna(0)\n",
    "upper_triangle = upper_triangle[sorted(upper_triangle.columns)]\n",
    "\n",
    "lower_triangle = mummer_matrix.pivot(index='ss2', columns='ss1', values='score2').fillna(0)\n",
    "lower_triangle = lower_triangle[sorted(lower_triangle.columns)]\n",
    "\n",
    "# lower_triangle\n",
    "\n",
    "new_mummer_matrix = upper_triangle + lower_triangle\n",
    "new_mummer_matrix[:] = np.where(new_mummer_matrix==200, 100, new_mummer_matrix)\n",
    "new_mummer_matrix.head(3)\n",
    "\n",
    "# lower_triangle.shape, upper_triangle.shape"
   ]
  },
  {
   "cell_type": "code",
   "execution_count": 92,
   "metadata": {
    "tags": []
   },
   "outputs": [],
   "source": [
    "assert list(lower_triangle.columns) == list(upper_triangle.columns)\n",
    "assert list(lower_triangle.index) == list(upper_triangle.index)"
   ]
  },
  {
   "cell_type": "code",
   "execution_count": 93,
   "metadata": {
    "tags": []
   },
   "outputs": [
    {
     "data": {
      "text/plain": [
       "567"
      ]
     },
     "execution_count": 93,
     "metadata": {},
     "output_type": "execute_result"
    }
   ],
   "source": [
    "len(set(mummer_matrix['ss1']) | set(mummer_matrix['ss2']))"
   ]
  },
  {
   "cell_type": "code",
   "execution_count": 94,
   "metadata": {
    "tags": []
   },
   "outputs": [
    {
     "data": {
      "text/html": [
       "<div>\n",
       "<style scoped>\n",
       "    .dataframe tbody tr th:only-of-type {\n",
       "        vertical-align: middle;\n",
       "    }\n",
       "\n",
       "    .dataframe tbody tr th {\n",
       "        vertical-align: top;\n",
       "    }\n",
       "\n",
       "    .dataframe thead th {\n",
       "        text-align: right;\n",
       "    }\n",
       "</style>\n",
       "<table border=\"1\" class=\"dataframe\">\n",
       "  <thead>\n",
       "    <tr style=\"text-align: right;\">\n",
       "      <th>ss2</th>\n",
       "      <th>sample0</th>\n",
       "      <th>sample1</th>\n",
       "      <th>sample10</th>\n",
       "      <th>sample100</th>\n",
       "      <th>sample101</th>\n",
       "      <th>sample102</th>\n",
       "      <th>sample103</th>\n",
       "      <th>sample104</th>\n",
       "      <th>sample105</th>\n",
       "      <th>sample106</th>\n",
       "    </tr>\n",
       "    <tr>\n",
       "      <th>ss1</th>\n",
       "      <th></th>\n",
       "      <th></th>\n",
       "      <th></th>\n",
       "      <th></th>\n",
       "      <th></th>\n",
       "      <th></th>\n",
       "      <th></th>\n",
       "      <th></th>\n",
       "      <th></th>\n",
       "      <th></th>\n",
       "    </tr>\n",
       "  </thead>\n",
       "  <tbody>\n",
       "    <tr>\n",
       "      <th>sample0</th>\n",
       "      <td>0.000000</td>\n",
       "      <td>1.912122</td>\n",
       "      <td>11.796837</td>\n",
       "      <td>19.757920</td>\n",
       "      <td>8.820129</td>\n",
       "      <td>9.515171</td>\n",
       "      <td>10.411317</td>\n",
       "      <td>7.824951</td>\n",
       "      <td>9.857345</td>\n",
       "      <td>8.462670</td>\n",
       "    </tr>\n",
       "    <tr>\n",
       "      <th>sample1</th>\n",
       "      <td>5.230214</td>\n",
       "      <td>0.000000</td>\n",
       "      <td>13.081168</td>\n",
       "      <td>21.320672</td>\n",
       "      <td>10.414862</td>\n",
       "      <td>11.572352</td>\n",
       "      <td>12.166750</td>\n",
       "      <td>9.682086</td>\n",
       "      <td>11.582633</td>\n",
       "      <td>10.172402</td>\n",
       "    </tr>\n",
       "    <tr>\n",
       "      <th>sample10</th>\n",
       "      <td>23.421096</td>\n",
       "      <td>21.803200</td>\n",
       "      <td>0.000000</td>\n",
       "      <td>28.442884</td>\n",
       "      <td>19.220660</td>\n",
       "      <td>19.281105</td>\n",
       "      <td>18.616373</td>\n",
       "      <td>20.014585</td>\n",
       "      <td>19.060719</td>\n",
       "      <td>18.464543</td>\n",
       "    </tr>\n",
       "  </tbody>\n",
       "</table>\n",
       "</div>"
      ],
      "text/plain": [
       "ss2         sample0    sample1   sample10  sample100  sample101  sample102  \\\n",
       "ss1                                                                          \n",
       "sample0    0.000000   1.912122  11.796837  19.757920   8.820129   9.515171   \n",
       "sample1    5.230214   0.000000  13.081168  21.320672  10.414862  11.572352   \n",
       "sample10  23.421096  21.803200   0.000000  28.442884  19.220660  19.281105   \n",
       "\n",
       "ss2       sample103  sample104  sample105  sample106  \n",
       "ss1                                                   \n",
       "sample0   10.411317   7.824951   9.857345   8.462670  \n",
       "sample1   12.166750   9.682086  11.582633  10.172402  \n",
       "sample10  18.616373  20.014585  19.060719  18.464543  "
      ]
     },
     "execution_count": 94,
     "metadata": {},
     "output_type": "execute_result"
    }
   ],
   "source": [
    "subsamples = sorted(mummer_matrix['ss1'].unique())[:10]\n",
    "submatrix = mummer_matrix[(mummer_matrix['ss1'].isin(subsamples)) & (mummer_matrix['ss2'].isin(subsamples))]\n",
    "\n",
    "upper_triangle = submatrix.pivot(index='ss1', columns='ss2', values='score1').fillna(0)\n",
    "upper_triangle = upper_triangle[sorted(upper_triangle.columns)]\n",
    "\n",
    "lower_triangle = submatrix.pivot(index='ss2', columns='ss1', values='score2').fillna(0)\n",
    "lower_triangle = lower_triangle[sorted(lower_triangle.columns)]\n",
    "\n",
    "# lower_triangle\n",
    "\n",
    "submatrix = upper_triangle + lower_triangle\n",
    "submatrix[:] = np.where(submatrix==200, 100, submatrix)\n",
    "submatrix = 100 - submatrix\n",
    "submatrix.head(3)"
   ]
  },
  {
   "cell_type": "code",
   "execution_count": 95,
   "metadata": {
    "tags": []
   },
   "outputs": [
    {
     "data": {
      "text/plain": [
       "<seaborn.matrix.ClusterGrid at 0x14686a5a0>"
      ]
     },
     "execution_count": 95,
     "metadata": {},
     "output_type": "execute_result"
    },
    {
     "data": {
      "image/png": "[encoded data removed]",
      "text/plain": [
       "<Figure size 1000x1000 with 4 Axes>"
      ]
     },
     "metadata": {},
     "output_type": "display_data"
    }
   ],
   "source": [
    "sns.clustermap(submatrix, row_cluster=False, col_cluster=False)"
   ]
  },
  {
   "cell_type": "code",
   "execution_count": 96,
   "metadata": {
    "tags": []
   },
   "outputs": [],
   "source": [
    "# np.set_printoptions(suppress=True)\n",
    "# avoid acientific notation for linkage matrices"
   ]
  },
  {
   "cell_type": "markdown",
   "metadata": {},
   "source": [
    "HIERARCHICAL WARD LINKAGE"
   ]
  },
  {
   "cell_type": "code",
   "execution_count": 97,
   "metadata": {
    "tags": []
   },
   "outputs": [
    {
     "data": {
      "text/plain": [
       "array([[ 0.        ,  1.        ,  7.36943106,  2.        ],\n",
       "       [ 4.        ,  6.        , 17.21020011,  2.        ],\n",
       "       [ 8.        ,  9.        , 19.72219976,  2.        ],\n",
       "       [ 7.        , 11.        , 20.97306407,  3.        ],\n",
       "       [12.        , 13.        , 24.92579388,  5.        ],\n",
       "       [ 2.        ,  5.        , 29.553233  ,  2.        ],\n",
       "       [14.        , 15.        , 36.1503035 ,  7.        ],\n",
       "       [10.        , 16.        , 49.94507501,  9.        ],\n",
       "       [ 3.        , 17.        , 63.58492519, 10.        ]])"
      ]
     },
     "execution_count": 97,
     "metadata": {},
     "output_type": "execute_result"
    }
   ],
   "source": [
    "ward_linkage_matrix = ward(submatrix)\n",
    "ward_linkage_matrix"
   ]
  },
  {
   "cell_type": "code",
   "execution_count": 98,
   "metadata": {
    "tags": []
   },
   "outputs": [
    {
     "data": {
      "text/plain": [
       "array([1, 1, 5, 7, 3, 6, 3, 4, 2, 2], dtype=int32)"
      ]
     },
     "execution_count": 98,
     "metadata": {},
     "output_type": "execute_result"
    }
   ],
   "source": [
    "fcluster(ward_linkage_matrix, 20, criterion='distance')"
   ]
  },
  {
   "cell_type": "code",
   "execution_count": 99,
   "metadata": {
    "tags": []
   },
   "outputs": [
    {
     "data": {
      "image/png": "[encoded data removed]",
      "text/plain": [
       "<Figure size 2500x1000 with 1 Axes>"
      ]
     },
     "metadata": {},
     "output_type": "display_data"
    }
   ],
   "source": [
    "fig = plt.figure(figsize=(25, 10))\n",
    "\n",
    "dn = dendrogram(ward_linkage_matrix)\n",
    "\n",
    "plt.show()"
   ]
  },
  {
   "cell_type": "code",
   "execution_count": 100,
   "metadata": {
    "tags": []
   },
   "outputs": [
    {
     "data": {
      "text/plain": [
       "array([1, 1, 4, 5, 3, 4, 3, 3, 2, 2], dtype=int32)"
      ]
     },
     "execution_count": 100,
     "metadata": {},
     "output_type": "execute_result"
    }
   ],
   "source": [
    "fcluster(ward_linkage_matrix, 1)"
   ]
  },
  {
   "cell_type": "code",
   "execution_count": 101,
   "metadata": {
    "tags": []
   },
   "outputs": [],
   "source": [
    "# def getvalue(n):\n",
    "#     return d.get(n)\n",
    "\n",
    "# sorted(d, key=getvalue)"
   ]
  },
  {
   "cell_type": "code",
   "execution_count": 102,
   "metadata": {
    "tags": []
   },
   "outputs": [
    {
     "data": {
      "text/plain": [
       "{'sample0': np.int32(1),\n",
       " 'sample1': np.int32(1),\n",
       " 'sample10': np.int32(4),\n",
       " 'sample100': np.int32(5),\n",
       " 'sample101': np.int32(3),\n",
       " 'sample102': np.int32(4),\n",
       " 'sample103': np.int32(3),\n",
       " 'sample104': np.int32(3),\n",
       " 'sample105': np.int32(2),\n",
       " 'sample106': np.int32(2)}"
      ]
     },
     "execution_count": 102,
     "metadata": {},
     "output_type": "execute_result"
    }
   ],
   "source": [
    "d = dict(zip(submatrix.index, fcluster(ward_linkage_matrix, 1)))\n",
    "d"
   ]
  },
  {
   "cell_type": "code",
   "execution_count": 103,
   "metadata": {},
   "outputs": [
    {
     "data": {
      "text/plain": [
       "['sample0',\n",
       " 'sample1',\n",
       " 'sample105',\n",
       " 'sample106',\n",
       " 'sample101',\n",
       " 'sample103',\n",
       " 'sample104',\n",
       " 'sample10',\n",
       " 'sample102',\n",
       " 'sample100']"
      ]
     },
     "execution_count": 103,
     "metadata": {},
     "output_type": "execute_result"
    }
   ],
   "source": [
    "def getvalue(n):\n",
    "    return d.get(n)\n",
    "\n",
    "sorted(d, key=getvalue)"
   ]
  },
  {
   "cell_type": "code",
   "execution_count": 104,
   "metadata": {
    "tags": []
   },
   "outputs": [
    {
     "data": {
      "text/plain": [
       "'Hello Annaliese'"
      ]
     },
     "execution_count": 104,
     "metadata": {},
     "output_type": "execute_result"
    }
   ],
   "source": [
    "hello = lambda name: f'Hello {name}'\n",
    "hello('Annaliese')"
   ]
  },
  {
   "cell_type": "code",
   "execution_count": 105,
   "metadata": {
    "tags": []
   },
   "outputs": [
    {
     "data": {
      "text/plain": [
       "<Axes: xlabel='ss2', ylabel='ss1'>"
      ]
     },
     "execution_count": 105,
     "metadata": {},
     "output_type": "execute_result"
    },
    {
     "data": {
      "image/png": "[encoded data removed]",
      "text/plain": [
       "<Figure size 640x480 with 2 Axes>"
      ]
     },
     "metadata": {},
     "output_type": "display_data"
    }
   ],
   "source": [
    "order = sorted(d, key=lambda n: d.get(n))\n",
    "\n",
    "osubmatrix = submatrix[order]\n",
    "osubmatrix = osubmatrix.reindex(order)\n",
    "\n",
    "sns.heatmap(osubmatrix)"
   ]
  },
  {
   "cell_type": "code",
   "execution_count": 137,
   "metadata": {
    "tags": []
   },
   "outputs": [
    {
     "data": {
      "text/plain": [
       "(<seaborn.matrix.ClusterGrid at 0x15483ef30>,\n",
       " (ss2          sample0    sample1  sample105  sample106  sample101  sample103  \\\n",
       "  ss1                                                                           \n",
       "  sample0     0.000000   1.912122   9.857345   8.462670   8.820129  10.411317   \n",
       "  sample1     5.230214   0.000000  11.582633  10.172402  10.414862  12.166750   \n",
       "  sample105  23.690648  22.458630   0.000000  14.329130  14.822795  16.008464   \n",
       "  sample106  20.939445  19.540199  12.515698   0.000000  15.493188  15.586331   \n",
       "  sample101  18.953321  17.482398  11.025586  13.018926   0.000000  12.456527   \n",
       "  sample103  18.767231  17.436844  10.237112  11.324103  10.772144   0.000000   \n",
       "  sample104  17.821362  16.578530  14.404339  12.693151  14.065797  13.513043   \n",
       "  sample10   23.421096  21.803200  19.060719  18.464543  19.220660  18.616373   \n",
       "  sample102  24.770330  23.828625  18.017700  18.429118  20.094340  19.120245   \n",
       "  sample100  30.460456  29.252630  24.079723  24.602963  25.480462  26.022327   \n",
       "  \n",
       "  ss2        sample104   sample10  sample102  sample100  \n",
       "  ss1                                                    \n",
       "  sample0     7.824951  11.796837   9.515171  19.757920  \n",
       "  sample1     9.682086  13.081168  11.572352  21.320672  \n",
       "  sample105  16.936785  20.281177  14.349814  25.483068  \n",
       "  sample106  15.268310  17.800828  15.340958  24.877902  \n",
       "  sample101  14.210590  16.120093  14.176709  22.605678  \n",
       "  sample103  12.019250  14.063803  10.719992  21.915154  \n",
       "  sample104   0.000000  17.292291  13.412948  24.973370  \n",
       "  sample10   20.014585   0.000000  19.281105  28.442884  \n",
       "  sample102  19.229076  22.043830   0.000000  31.099195  \n",
       "  sample100  27.117123  28.057761  28.033745   0.000000  ,\n",
       "  {'sample0': np.int32(1),\n",
       "   'sample1': np.int32(1),\n",
       "   'sample10': np.int32(5),\n",
       "   'sample100': np.int32(7),\n",
       "   'sample101': np.int32(3),\n",
       "   'sample102': np.int32(6),\n",
       "   'sample103': np.int32(3),\n",
       "   'sample104': np.int32(4),\n",
       "   'sample105': np.int32(2),\n",
       "   'sample106': np.int32(2)}))"
      ]
     },
     "execution_count": 137,
     "metadata": {},
     "output_type": "execute_result"
    },
    {
     "data": {
      "image/png": "[encoded data removed]",
      "text/plain": [
       "<Figure size 1000x1000 with 6 Axes>"
      ]
     },
     "metadata": {},
     "output_type": "display_data"
    }
   ],
   "source": [
    "def get_clustered_matrix(distance_matrix, cluster_function, threshold, criterion, kwargs={}):\n",
    "    clustering = cluster_function(distance_matrix, ** kwargs)\n",
    "    \n",
    "    # get the order\n",
    "    d = dict(zip(submatrix.index, fcluster(clustering, threshold, criterion)))\n",
    "    order = sorted(d, key=lambda n: d.get(n))\n",
    "    \n",
    "    # reorder frame\n",
    "    nframe = distance_matrix.copy()\n",
    "    nframe = nframe[order]\n",
    "    return nframe.reindex(order), d\n",
    "\n",
    "res = get_clustered_matrix(submatrix, ward, 20, 'distance')\n",
    "\n",
    "colors = list(sns.color_palette())\n",
    "colors = [colors[value % len(colors)] for value in sorted(res[1].values())]\n",
    "\n",
    "sns.clustermap(res[0], row_cluster=False, col_cluster=False, row_colors=colors, col_colors=colors), res"
   ]
  },
  {
   "cell_type": "code",
   "execution_count": 107,
   "metadata": {
    "tags": []
   },
   "outputs": [
    {
     "data": {
      "text/plain": [
       "(np.float64(14.3291298874), np.float64(7.824950972499991))"
      ]
     },
     "execution_count": 107,
     "metadata": {},
     "output_type": "execute_result"
    }
   ],
   "source": [
    "def get_clusters_stats(res):\n",
    "    matrix, clustering = res\n",
    "    nclusters = len(set(clustering.values()))\n",
    "\n",
    "    matrix = matrix.melt(ignore_index=False, value_name='distance').reset_index()\n",
    "    matrix['ss1c'] = matrix['ss1'].apply(lambda key: clustering[key])\n",
    "    matrix['ss2c'] = matrix['ss2'].apply(lambda key: clustering[key])\n",
    "\n",
    "    smatrix = matrix[matrix['ss1'] != matrix['ss2']]\n",
    "    same_smatrix = smatrix[smatrix['ss1c'] == smatrix['ss2c']]\n",
    "    intra_sim = same_smatrix.groupby('ss1c')['distance'].describe().reset_index()\n",
    "\n",
    "    notsame_smatrix = smatrix[smatrix['ss1c'] != smatrix['ss2c']]\n",
    "    inter_sim = notsame_smatrix.groupby(['ss1c', 'ss2c'])['distance'].describe().reset_index()\n",
    "\n",
    "    return nclusters, intra_sim, inter_sim\n",
    "\n",
    "\n",
    "d = {\n",
    "    'ward_distance_15': (ward, 15, 'distance', {}),\n",
    "    'ward_distance_20': (ward, 20, 'distance', {}),\n",
    "    'linkage_distance_15': (linkage, 15, 'distance'),\n",
    "    'linkage_distance_20': (linkage, 20, 'distance'),\n",
    "    'linkage_complete_distance_15': (linkage, 15, 'distance', {'method': 'complete'}),\n",
    "    'linkage_complete_distance_20': (linkage, 20, 'distance', {'method': 'complete'})\n",
    "}\n",
    "\n",
    "allres_ncluster = {}\n",
    "allres_intra = []\n",
    "allres_inter = []\n",
    "\n",
    "for method_name, values in d.items():\n",
    "    res = get_clustered_matrix(submatrix, * values)\n",
    "    stats = get_clusters_stats(res)\n",
    "    ncluster, intra, inter = stats\n",
    "    \n",
    "    allres_ncluster[method_name] = ncluster\n",
    "    intra['method'] = method_name\n",
    "    allres_intra.append(intra)\n",
    "    \n",
    "    inter['method'] = method_name\n",
    "    allres_inter.append(inter)\n",
    "    \n",
    "allres_ncluster = pd.Series(allres_ncluster)\n",
    "allres_ncluster = allres_ncluster.to_frame().reset_index()\n",
    "allres_ncluster.columns = ['method', 'nclusters']\n",
    "\n",
    "allres_inter = pd.concat(allres_inter)\n",
    "allres_intra = pd.concat(allres_intra)\n",
    "\n",
    "allres_intra['max'].max(), allres_inter['min'].min()"
   ]
  },
  {
   "cell_type": "code",
   "execution_count": null,
   "metadata": {
    "tags": []
   },
   "outputs": [],
   "source": []
  },
  {
   "cell_type": "code",
   "execution_count": 132,
   "metadata": {
    "tags": []
   },
   "outputs": [
    {
     "data": {
      "text/plain": [
       "(ss2          sample0    sample1  sample105  sample106  sample101  sample103  \\\n",
       " ss1                                                                           \n",
       " sample0     0.000000   1.912122   9.857345   8.462670   8.820129  10.411317   \n",
       " sample1     5.230214   0.000000  11.582633  10.172402  10.414862  12.166750   \n",
       " sample105  23.690648  22.458630   0.000000  14.329130  14.822795  16.008464   \n",
       " sample106  20.939445  19.540199  12.515698   0.000000  15.493188  15.586331   \n",
       " sample101  18.953321  17.482398  11.025586  13.018926   0.000000  12.456527   \n",
       " sample103  18.767231  17.436844  10.237112  11.324103  10.772144   0.000000   \n",
       " sample104  17.821362  16.578530  14.404339  12.693151  14.065797  13.513043   \n",
       " sample10   23.421096  21.803200  19.060719  18.464543  19.220660  18.616373   \n",
       " sample102  24.770330  23.828625  18.017700  18.429118  20.094340  19.120245   \n",
       " sample100  30.460456  29.252630  24.079723  24.602963  25.480462  26.022327   \n",
       " \n",
       " ss2        sample104   sample10  sample102  sample100  \n",
       " ss1                                                    \n",
       " sample0     7.824951  11.796837   9.515171  19.757920  \n",
       " sample1     9.682086  13.081168  11.572352  21.320672  \n",
       " sample105  16.936785  20.281177  14.349814  25.483068  \n",
       " sample106  15.268310  17.800828  15.340958  24.877902  \n",
       " sample101  14.210590  16.120093  14.176709  22.605678  \n",
       " sample103  12.019250  14.063803  10.719992  21.915154  \n",
       " sample104   0.000000  17.292291  13.412948  24.973370  \n",
       " sample10   20.014585   0.000000  19.281105  28.442884  \n",
       " sample102  19.229076  22.043830   0.000000  31.099195  \n",
       " sample100  27.117123  28.057761  28.033745   0.000000  ,\n",
       " {'sample0': np.int32(1),\n",
       "  'sample1': np.int32(1),\n",
       "  'sample10': np.int32(7),\n",
       "  'sample100': np.int32(9),\n",
       "  'sample101': np.int32(4),\n",
       "  'sample102': np.int32(8),\n",
       "  'sample103': np.int32(5),\n",
       "  'sample104': np.int32(6),\n",
       "  'sample105': np.int32(2),\n",
       "  'sample106': np.int32(3)})"
      ]
     },
     "execution_count": 132,
     "metadata": {},
     "output_type": "execute_result"
    }
   ],
   "source": [
    "res = get_clustered_matrix(submatrix, linkage, 15, 'distance', {'method': 'complete'})\n",
    "res"
   ]
  },
  {
   "cell_type": "code",
   "execution_count": 109,
   "metadata": {
    "tags": []
   },
   "outputs": [
    {
     "data": {
      "text/html": [
       "<div>\n",
       "<style scoped>\n",
       "    .dataframe tbody tr th:only-of-type {\n",
       "        vertical-align: middle;\n",
       "    }\n",
       "\n",
       "    .dataframe tbody tr th {\n",
       "        vertical-align: top;\n",
       "    }\n",
       "\n",
       "    .dataframe thead th {\n",
       "        text-align: right;\n",
       "    }\n",
       "</style>\n",
       "<table border=\"1\" class=\"dataframe\">\n",
       "  <thead>\n",
       "    <tr style=\"text-align: right;\">\n",
       "      <th>ss2</th>\n",
       "      <th>sample0</th>\n",
       "      <th>sample1</th>\n",
       "      <th>sample10</th>\n",
       "      <th>sample100</th>\n",
       "      <th>sample101</th>\n",
       "      <th>sample102</th>\n",
       "      <th>sample103</th>\n",
       "      <th>sample104</th>\n",
       "      <th>sample105</th>\n",
       "      <th>sample106</th>\n",
       "    </tr>\n",
       "    <tr>\n",
       "      <th>ss1</th>\n",
       "      <th></th>\n",
       "      <th></th>\n",
       "      <th></th>\n",
       "      <th></th>\n",
       "      <th></th>\n",
       "      <th></th>\n",
       "      <th></th>\n",
       "      <th></th>\n",
       "      <th></th>\n",
       "      <th></th>\n",
       "    </tr>\n",
       "  </thead>\n",
       "  <tbody>\n",
       "    <tr>\n",
       "      <th>sample0</th>\n",
       "      <td>0.000000</td>\n",
       "      <td>1.912122</td>\n",
       "      <td>11.796837</td>\n",
       "      <td>19.757920</td>\n",
       "      <td>8.820129</td>\n",
       "      <td>9.515171</td>\n",
       "      <td>10.411317</td>\n",
       "      <td>7.824951</td>\n",
       "      <td>9.857345</td>\n",
       "      <td>8.462670</td>\n",
       "    </tr>\n",
       "    <tr>\n",
       "      <th>sample1</th>\n",
       "      <td>5.230214</td>\n",
       "      <td>0.000000</td>\n",
       "      <td>13.081168</td>\n",
       "      <td>21.320672</td>\n",
       "      <td>10.414862</td>\n",
       "      <td>11.572352</td>\n",
       "      <td>12.166750</td>\n",
       "      <td>9.682086</td>\n",
       "      <td>11.582633</td>\n",
       "      <td>10.172402</td>\n",
       "    </tr>\n",
       "    <tr>\n",
       "      <th>sample10</th>\n",
       "      <td>23.421096</td>\n",
       "      <td>21.803200</td>\n",
       "      <td>0.000000</td>\n",
       "      <td>28.442884</td>\n",
       "      <td>19.220660</td>\n",
       "      <td>19.281105</td>\n",
       "      <td>18.616373</td>\n",
       "      <td>20.014585</td>\n",
       "      <td>19.060719</td>\n",
       "      <td>18.464543</td>\n",
       "    </tr>\n",
       "    <tr>\n",
       "      <th>sample100</th>\n",
       "      <td>30.460456</td>\n",
       "      <td>29.252630</td>\n",
       "      <td>28.057761</td>\n",
       "      <td>0.000000</td>\n",
       "      <td>25.480462</td>\n",
       "      <td>28.033745</td>\n",
       "      <td>26.022327</td>\n",
       "      <td>27.117123</td>\n",
       "      <td>24.079723</td>\n",
       "      <td>24.602963</td>\n",
       "    </tr>\n",
       "    <tr>\n",
       "      <th>sample101</th>\n",
       "      <td>18.953321</td>\n",
       "      <td>17.482398</td>\n",
       "      <td>16.120093</td>\n",
       "      <td>22.605678</td>\n",
       "      <td>0.000000</td>\n",
       "      <td>14.176709</td>\n",
       "      <td>12.456527</td>\n",
       "      <td>14.210590</td>\n",
       "      <td>11.025586</td>\n",
       "      <td>13.018926</td>\n",
       "    </tr>\n",
       "    <tr>\n",
       "      <th>sample102</th>\n",
       "      <td>24.770330</td>\n",
       "      <td>23.828625</td>\n",
       "      <td>22.043830</td>\n",
       "      <td>31.099195</td>\n",
       "      <td>20.094340</td>\n",
       "      <td>0.000000</td>\n",
       "      <td>19.120245</td>\n",
       "      <td>19.229076</td>\n",
       "      <td>18.017700</td>\n",
       "      <td>18.429118</td>\n",
       "    </tr>\n",
       "    <tr>\n",
       "      <th>sample103</th>\n",
       "      <td>18.767231</td>\n",
       "      <td>17.436844</td>\n",
       "      <td>14.063803</td>\n",
       "      <td>21.915154</td>\n",
       "      <td>10.772144</td>\n",
       "      <td>10.719992</td>\n",
       "      <td>0.000000</td>\n",
       "      <td>12.019250</td>\n",
       "      <td>10.237112</td>\n",
       "      <td>11.324103</td>\n",
       "    </tr>\n",
       "    <tr>\n",
       "      <th>sample104</th>\n",
       "      <td>17.821362</td>\n",
       "      <td>16.578530</td>\n",
       "      <td>17.292291</td>\n",
       "      <td>24.973370</td>\n",
       "      <td>14.065797</td>\n",
       "      <td>13.412948</td>\n",
       "      <td>13.513043</td>\n",
       "      <td>0.000000</td>\n",
       "      <td>14.404339</td>\n",
       "      <td>12.693151</td>\n",
       "    </tr>\n",
       "    <tr>\n",
       "      <th>sample105</th>\n",
       "      <td>23.690648</td>\n",
       "      <td>22.458630</td>\n",
       "      <td>20.281177</td>\n",
       "      <td>25.483068</td>\n",
       "      <td>14.822795</td>\n",
       "      <td>14.349814</td>\n",
       "      <td>16.008464</td>\n",
       "      <td>16.936785</td>\n",
       "      <td>0.000000</td>\n",
       "      <td>14.329130</td>\n",
       "    </tr>\n",
       "    <tr>\n",
       "      <th>sample106</th>\n",
       "      <td>20.939445</td>\n",
       "      <td>19.540199</td>\n",
       "      <td>17.800828</td>\n",
       "      <td>24.877902</td>\n",
       "      <td>15.493188</td>\n",
       "      <td>15.340958</td>\n",
       "      <td>15.586331</td>\n",
       "      <td>15.268310</td>\n",
       "      <td>12.515698</td>\n",
       "      <td>0.000000</td>\n",
       "    </tr>\n",
       "  </tbody>\n",
       "</table>\n",
       "</div>"
      ],
      "text/plain": [
       "ss2          sample0    sample1   sample10  sample100  sample101  sample102  \\\n",
       "ss1                                                                           \n",
       "sample0     0.000000   1.912122  11.796837  19.757920   8.820129   9.515171   \n",
       "sample1     5.230214   0.000000  13.081168  21.320672  10.414862  11.572352   \n",
       "sample10   23.421096  21.803200   0.000000  28.442884  19.220660  19.281105   \n",
       "sample100  30.460456  29.252630  28.057761   0.000000  25.480462  28.033745   \n",
       "sample101  18.953321  17.482398  16.120093  22.605678   0.000000  14.176709   \n",
       "sample102  24.770330  23.828625  22.043830  31.099195  20.094340   0.000000   \n",
       "sample103  18.767231  17.436844  14.063803  21.915154  10.772144  10.719992   \n",
       "sample104  17.821362  16.578530  17.292291  24.973370  14.065797  13.412948   \n",
       "sample105  23.690648  22.458630  20.281177  25.483068  14.822795  14.349814   \n",
       "sample106  20.939445  19.540199  17.800828  24.877902  15.493188  15.340958   \n",
       "\n",
       "ss2        sample103  sample104  sample105  sample106  \n",
       "ss1                                                    \n",
       "sample0    10.411317   7.824951   9.857345   8.462670  \n",
       "sample1    12.166750   9.682086  11.582633  10.172402  \n",
       "sample10   18.616373  20.014585  19.060719  18.464543  \n",
       "sample100  26.022327  27.117123  24.079723  24.602963  \n",
       "sample101  12.456527  14.210590  11.025586  13.018926  \n",
       "sample102  19.120245  19.229076  18.017700  18.429118  \n",
       "sample103   0.000000  12.019250  10.237112  11.324103  \n",
       "sample104  13.513043   0.000000  14.404339  12.693151  \n",
       "sample105  16.008464  16.936785   0.000000  14.329130  \n",
       "sample106  15.586331  15.268310  12.515698   0.000000  "
      ]
     },
     "execution_count": 109,
     "metadata": {},
     "output_type": "execute_result"
    }
   ],
   "source": [
    "#ssm = submatrix.melt(ignore_index=False).reset_index()\n",
    "#ssm = ssm[ssm['ss1'] != ssm['ss2']]\n",
    "#ssm = ssm.groupby(['ss1', 'ss2'])['value'].mean()\n",
    "#ssm = np.array(ssm)\n",
    "#ssm\n",
    "\n",
    "submatrix"
   ]
  },
  {
   "cell_type": "code",
   "execution_count": 110,
   "metadata": {
    "tags": []
   },
   "outputs": [
    {
     "data": {
      "text/plain": [
       "(array([[ 0.        ,  1.        ,  5.19166423,  2.        ],\n",
       "        [ 6.        ,  7.        , 12.7946251 ,  2.        ],\n",
       "        [ 8.        ,  9.        , 14.32912989,  2.        ],\n",
       "        [11.        , 12.        , 17.29915644,  4.        ],\n",
       "        [ 4.        ,  5.        , 18.6742942 ,  2.        ],\n",
       "        [ 2.        , 10.        , 26.90745261,  3.        ],\n",
       "        [13.        , 14.        , 27.42103398,  6.        ],\n",
       "        [15.        , 16.        , 36.57212905,  9.        ],\n",
       "        [ 3.        , 17.        , 48.25463451, 10.        ]]),\n",
       " {'sample0': 0,\n",
       "  'sample1': 1,\n",
       "  'sample10': 2,\n",
       "  'sample100': 3,\n",
       "  'sample101': 4,\n",
       "  'sample102': 5,\n",
       "  'sample103': 6,\n",
       "  'sample104': 7,\n",
       "  'sample105': 8,\n",
       "  'sample106': 9})"
      ]
     },
     "execution_count": 110,
     "metadata": {},
     "output_type": "execute_result"
    },
    {
     "data": {
      "image/png": "[encoded data removed]",
      "text/plain": [
       "<Figure size 640x480 with 1 Axes>"
      ]
     },
     "metadata": {},
     "output_type": "display_data"
    }
   ],
   "source": [
    "cl = linkage(np.triu(submatrix), method='average')\n",
    "dendrogram(cl)\n",
    "cl, {name: idx for idx, name in enumerate(submatrix.index)}"
   ]
  },
  {
   "cell_type": "code",
   "execution_count": 111,
   "metadata": {
    "tags": []
   },
   "outputs": [
    {
     "data": {
      "text/plain": [
       "array([ 7.36943106, 41.98798545, 63.47689955, 28.19699049, 43.78350185,\n",
       "       27.25069498, 27.24404165, 37.32973447, 32.41618499, 37.92277795,\n",
       "       59.4093973 , 25.47745212, 40.02823389, 25.41842781, 24.3115004 ,\n",
       "       34.06336337, 29.16792718, 44.55604139, 29.89811935, 29.553233  ,\n",
       "       31.06657459, 30.20498894, 29.34168395, 28.03144835, 49.20323578,\n",
       "       45.43952347, 52.36031985, 50.3118628 , 44.63169299, 46.45734631,\n",
       "       30.55903176, 17.21020011, 20.54476803, 20.87756984, 20.98067563,\n",
       "       30.90833585, 28.71168999, 25.05557771, 27.28314574, 19.64210084,\n",
       "       22.90653229, 21.50452966, 24.14355601, 20.65476131, 19.72219976])"
      ]
     },
     "execution_count": 111,
     "metadata": {},
     "output_type": "execute_result"
    }
   ],
   "source": [
    "pdist(submatrix)"
   ]
  },
  {
   "cell_type": "code",
   "execution_count": 138,
   "metadata": {
    "tags": []
   },
   "outputs": [
    {
     "data": {
      "text/plain": [
       "array([[ 0.        ,  1.        ,  1.91212188,  2.        ],\n",
       "       [ 7.        , 10.        ,  8.75351836,  3.        ],\n",
       "       [ 6.        ,  8.        , 10.23711239,  2.        ],\n",
       "       [ 9.        , 11.        , 10.4427411 ,  4.        ],\n",
       "       [ 4.        , 13.        , 11.61612658,  5.        ],\n",
       "       [12.        , 14.        , 11.95769788,  7.        ],\n",
       "       [ 5.        , 15.        , 15.72291009,  8.        ],\n",
       "       [ 2.        , 16.        , 17.44199868,  9.        ],\n",
       "       [ 3.        , 17.        , 24.9842022 , 10.        ]])"
      ]
     },
     "execution_count": 138,
     "metadata": {},
     "output_type": "execute_result"
    }
   ],
   "source": [
    "# cl = linkage(submatrix, method='single', metric=fun)\n",
    "# dendrogram(cl)\n",
    "# cl, {name: idx for idx, name in enumerate(submatrix.index)}\n",
    "\n",
    "a = np.array(submatrix)\n",
    "a = a[np.triu_indices_from(a, k=1)] # explain more what this line is doing??\n",
    "# Numpy triu_indices_from documentation: Return the indices for the upper-triangle of arr\n",
    "# k = diagonal offset (start at a given index k of the array of the first row, take the diagonal index values)\n",
    "# https://numpy.org/doc/stable/reference/generated/numpy.triu_indices_from.html\n",
    "\n",
    "cl = linkage(a, method='average', metric=None)\n",
    "cl"
   ]
  },
  {
   "cell_type": "code",
   "execution_count": null,
   "metadata": {},
   "outputs": [
    {
     "name": "stdout",
     "output_type": "stream",
     "text": [
      "[{'Cluster': np.int32(1), 'Distance': np.float64(13.09831207949999)}, {'Cluster': np.int32(2), 'Distance': 0}, {'Cluster': np.int32(3), 'Distance': 0}, {'Cluster': np.int32(4), 'Distance': 0}, {'Cluster': np.int32(5), 'Distance': 0}, {'Cluster': np.int32(6), 'Distance': 0}, {'Cluster': np.int32(7), 'Distance': 0}, {'Cluster': np.int32(8), 'Distance': 0}, {'Cluster': np.int32(9), 'Distance': 0}, {'Cluster': np.int32(10), 'Distance': 0}, {'Cluster': np.int32(11), 'Distance': 0}, {'Cluster': np.int32(12), 'Distance': 0}, {'Cluster': np.int32(13), 'Distance': 0}, {'Cluster': np.int32(14), 'Distance': 0}, {'Cluster': np.int32(15), 'Distance': 0}, {'Cluster': np.int32(16), 'Distance': 0}, {'Cluster': np.int32(17), 'Distance': 0}, {'Cluster': np.int32(18), 'Distance': 0}, {'Cluster': np.int32(19), 'Distance': 0}, {'Cluster': np.int32(20), 'Distance': 0}, {'Cluster': np.int32(21), 'Distance': 0}, {'Cluster': np.int32(22), 'Distance': 0}, {'Cluster': np.int32(23), 'Distance': 0}, {'Cluster': np.int32(24), 'Distance': 0}, {'Cluster': np.int32(25), 'Distance': 0}, {'Cluster': np.int32(26), 'Distance': 0}, {'Cluster': np.int32(27), 'Distance': np.float64(14.018946910600008)}, {'Cluster': np.int32(28), 'Distance': 0}, {'Cluster': np.int32(29), 'Distance': np.float64(14.8732103655)}, {'Cluster': np.int32(29), 'Distance': np.float64(13.753551636699996)}, {'Cluster': np.int32(29), 'Distance': np.float64(14.980512927999982)}, {'Cluster': np.int32(29), 'Distance': np.float64(12.896384346399998)}, {'Cluster': np.int32(29), 'Distance': np.float64(15.599387505699994)}, {'Cluster': np.int32(29), 'Distance': np.float64(16.625892553599996)}, {'Cluster': np.int32(30), 'Distance': 0}, {'Cluster': np.int32(31), 'Distance': 0}, {'Cluster': np.int32(32), 'Distance': 0}, {'Cluster': np.int32(33), 'Distance': 0}, {'Cluster': np.int32(34), 'Distance': np.float64(17.712684076000002)}, {'Cluster': np.int32(35), 'Distance': 0}, {'Cluster': np.int32(36), 'Distance': 0}, {'Cluster': np.int32(37), 'Distance': 0}, {'Cluster': np.int32(38), 'Distance': 0}, {'Cluster': np.int32(39), 'Distance': 0}, {'Cluster': np.int32(40), 'Distance': 0}, {'Cluster': np.int32(41), 'Distance': 0}, {'Cluster': np.int32(42), 'Distance': 0}, {'Cluster': np.int32(43), 'Distance': 0}, {'Cluster': np.int32(44), 'Distance': 0}, {'Cluster': np.int32(45), 'Distance': 0}, {'Cluster': np.int32(46), 'Distance': 0}, {'Cluster': np.int32(47), 'Distance': 0}, {'Cluster': np.int32(48), 'Distance': 0}, {'Cluster': np.int32(49), 'Distance': 0}, {'Cluster': np.int32(50), 'Distance': 0}, {'Cluster': np.int32(51), 'Distance': 0}, {'Cluster': np.int32(52), 'Distance': 0}, {'Cluster': np.int32(53), 'Distance': 0}, {'Cluster': np.int32(54), 'Distance': 0}, {'Cluster': np.int32(55), 'Distance': 0}, {'Cluster': np.int32(56), 'Distance': 0}, {'Cluster': np.int32(57), 'Distance': 0}, {'Cluster': np.int32(58), 'Distance': 0}, {'Cluster': np.int32(59), 'Distance': 0}, {'Cluster': np.int32(60), 'Distance': 0}, {'Cluster': np.int32(61), 'Distance': 0}, {'Cluster': np.int32(62), 'Distance': 0}, {'Cluster': np.int32(63), 'Distance': 0}, {'Cluster': np.int32(64), 'Distance': 0}, {'Cluster': np.int32(65), 'Distance': 0}, {'Cluster': np.int32(66), 'Distance': 0}, {'Cluster': np.int32(67), 'Distance': 0}, {'Cluster': np.int32(68), 'Distance': 0}, {'Cluster': np.int32(69), 'Distance': 0}, {'Cluster': np.int32(70), 'Distance': 0}, {'Cluster': np.int32(71), 'Distance': 0}, {'Cluster': np.int32(72), 'Distance': 0}, {'Cluster': np.int32(73), 'Distance': 0}, {'Cluster': np.int32(74), 'Distance': 0}, {'Cluster': np.int32(75), 'Distance': 0}, {'Cluster': np.int32(76), 'Distance': 0}, {'Cluster': np.int32(77), 'Distance': 0}, {'Cluster': np.int32(78), 'Distance': 0}, {'Cluster': np.int32(79), 'Distance': 0}, {'Cluster': np.int32(80), 'Distance': 0}, {'Cluster': np.int32(81), 'Distance': 0}, {'Cluster': np.int32(82), 'Distance': 0}, {'Cluster': np.int32(83), 'Distance': 0}, {'Cluster': np.int32(84), 'Distance': 0}, {'Cluster': np.int32(85), 'Distance': 0}, {'Cluster': np.int32(86), 'Distance': 0}, {'Cluster': np.int32(87), 'Distance': 0}, {'Cluster': np.int32(88), 'Distance': 0}, {'Cluster': np.int32(89), 'Distance': 0}, {'Cluster': np.int32(90), 'Distance': 0}, {'Cluster': np.int32(91), 'Distance': 0}, {'Cluster': np.int32(92), 'Distance': 0}, {'Cluster': np.int32(93), 'Distance': 0}, {'Cluster': np.int32(94), 'Distance': 0}, {'Cluster': np.int32(95), 'Distance': 0}, {'Cluster': np.int32(96), 'Distance': 0}, {'Cluster': np.int32(97), 'Distance': 0}, {'Cluster': np.int32(98), 'Distance': 0}, {'Cluster': np.int32(99), 'Distance': 0}, {'Cluster': np.int32(100), 'Distance': 0}, {'Cluster': np.int32(101), 'Distance': 0}, {'Cluster': np.int32(102), 'Distance': 0}, {'Cluster': np.int32(103), 'Distance': 0}, {'Cluster': np.int32(104), 'Distance': 0}, {'Cluster': np.int32(105), 'Distance': 0}, {'Cluster': np.int32(106), 'Distance': 0}, {'Cluster': np.int32(107), 'Distance': 0}, {'Cluster': np.int32(108), 'Distance': 0}, {'Cluster': np.int32(109), 'Distance': 0}, {'Cluster': np.int32(110), 'Distance': 0}, {'Cluster': np.int32(111), 'Distance': 0}, {'Cluster': np.int32(112), 'Distance': 0}, {'Cluster': np.int32(113), 'Distance': 0}, {'Cluster': np.int32(114), 'Distance': 0}, {'Cluster': np.int32(115), 'Distance': 0}, {'Cluster': np.int32(116), 'Distance': 0}, {'Cluster': np.int32(117), 'Distance': 0}, {'Cluster': np.int32(118), 'Distance': 0}, {'Cluster': np.int32(119), 'Distance': 0}, {'Cluster': np.int32(120), 'Distance': 0}, {'Cluster': np.int32(121), 'Distance': 0}, {'Cluster': np.int32(122), 'Distance': 0}, {'Cluster': np.int32(123), 'Distance': np.float64(12.7362786475)}, {'Cluster': np.int32(124), 'Distance': 0}, {'Cluster': np.int32(125), 'Distance': 0}, {'Cluster': np.int32(126), 'Distance': 0}, {'Cluster': np.int32(127), 'Distance': np.float64(7.230702259799983)}, {'Cluster': np.int32(128), 'Distance': 0}, {'Cluster': np.int32(129), 'Distance': 0}, {'Cluster': np.int32(130), 'Distance': 0}, {'Cluster': np.int32(131), 'Distance': 0}, {'Cluster': np.int32(132), 'Distance': 0}, {'Cluster': np.int32(133), 'Distance': 0}, {'Cluster': np.int32(134), 'Distance': 0}, {'Cluster': np.int32(135), 'Distance': 0}, {'Cluster': np.int32(136), 'Distance': 0}, {'Cluster': np.int32(137), 'Distance': 0}, {'Cluster': np.int32(138), 'Distance': 0}, {'Cluster': np.int32(139), 'Distance': 0}, {'Cluster': np.int32(140), 'Distance': 0}, {'Cluster': np.int32(141), 'Distance': 0}, {'Cluster': np.int32(142), 'Distance': 0}, {'Cluster': np.int32(143), 'Distance': 0}, {'Cluster': np.int32(144), 'Distance': 0}, {'Cluster': np.int32(145), 'Distance': 0}, {'Cluster': np.int32(146), 'Distance': 0}, {'Cluster': np.int32(147), 'Distance': 0}, {'Cluster': np.int32(148), 'Distance': 0}, {'Cluster': np.int32(149), 'Distance': 0}, {'Cluster': np.int32(150), 'Distance': 0}, {'Cluster': np.int32(151), 'Distance': 0}, {'Cluster': np.int32(152), 'Distance': 0}, {'Cluster': np.int32(153), 'Distance': 0}, {'Cluster': np.int32(154), 'Distance': 0}, {'Cluster': np.int32(155), 'Distance': 0}, {'Cluster': np.int32(156), 'Distance': 0}, {'Cluster': np.int32(157), 'Distance': 0}, {'Cluster': np.int32(158), 'Distance': 0}, {'Cluster': np.int32(159), 'Distance': 0}, {'Cluster': np.int32(160), 'Distance': 0}, {'Cluster': np.int32(161), 'Distance': 0}, {'Cluster': np.int32(162), 'Distance': 0}, {'Cluster': np.int32(163), 'Distance': 0}, {'Cluster': np.int32(164), 'Distance': 0}, {'Cluster': np.int32(165), 'Distance': 0}, {'Cluster': np.int32(166), 'Distance': 0}, {'Cluster': np.int32(167), 'Distance': 0}, {'Cluster': np.int32(168), 'Distance': 0}, {'Cluster': np.int32(169), 'Distance': 0}, {'Cluster': np.int32(170), 'Distance': np.float64(13.339066650000007)}, {'Cluster': np.int32(171), 'Distance': 0}, {'Cluster': np.int32(172), 'Distance': 0}, {'Cluster': np.int32(173), 'Distance': 0}, {'Cluster': np.int32(174), 'Distance': 0}, {'Cluster': np.int32(175), 'Distance': 0}, {'Cluster': np.int32(176), 'Distance': 0}, {'Cluster': np.int32(177), 'Distance': 0}, {'Cluster': np.int32(178), 'Distance': 0}, {'Cluster': np.int32(179), 'Distance': 0}, {'Cluster': np.int32(180), 'Distance': 0}, {'Cluster': np.int32(181), 'Distance': 0}, {'Cluster': np.int32(182), 'Distance': 0}, {'Cluster': np.int32(183), 'Distance': 0}, {'Cluster': np.int32(184), 'Distance': 0}, {'Cluster': np.int32(185), 'Distance': 0}, {'Cluster': np.int32(186), 'Distance': 0}, {'Cluster': np.int32(187), 'Distance': 0}, {'Cluster': np.int32(188), 'Distance': 0}, {'Cluster': np.int32(189), 'Distance': 0}, {'Cluster': np.int32(190), 'Distance': 0}, {'Cluster': np.int32(191), 'Distance': 0}, {'Cluster': np.int32(192), 'Distance': 0}, {'Cluster': np.int32(193), 'Distance': 0}, {'Cluster': np.int32(194), 'Distance': 0}, {'Cluster': np.int32(195), 'Distance': 0}, {'Cluster': np.int32(196), 'Distance': 0}, {'Cluster': np.int32(197), 'Distance': 0}, {'Cluster': np.int32(198), 'Distance': 0}, {'Cluster': np.int32(199), 'Distance': 0}, {'Cluster': np.int32(200), 'Distance': 0}, {'Cluster': np.int32(201), 'Distance': 0}, {'Cluster': np.int32(202), 'Distance': 0}, {'Cluster': np.int32(203), 'Distance': 0}, {'Cluster': np.int32(204), 'Distance': 0}, {'Cluster': np.int32(205), 'Distance': 0}, {'Cluster': np.int32(206), 'Distance': 0}, {'Cluster': np.int32(207), 'Distance': 0}, {'Cluster': np.int32(208), 'Distance': 0}, {'Cluster': np.int32(209), 'Distance': 0}, {'Cluster': np.int32(210), 'Distance': 0}, {'Cluster': np.int32(211), 'Distance': 0}, {'Cluster': np.int32(212), 'Distance': 0}, {'Cluster': np.int32(213), 'Distance': 0}, {'Cluster': np.int32(214), 'Distance': 0}, {'Cluster': np.int32(215), 'Distance': 0}, {'Cluster': np.int32(216), 'Distance': 0}, {'Cluster': np.int32(217), 'Distance': 0}, {'Cluster': np.int32(218), 'Distance': 0}, {'Cluster': np.int32(219), 'Distance': 0}, {'Cluster': np.int32(220), 'Distance': 0}, {'Cluster': np.int32(221), 'Distance': np.float64(11.278789525199997)}, {'Cluster': np.int32(221), 'Distance': np.float64(8.752386313199992)}, {'Cluster': np.int32(221), 'Distance': np.float64(9.349429959999995)}, {'Cluster': np.int32(221), 'Distance': np.float64(9.556454684000002)}, {'Cluster': np.int32(221), 'Distance': np.float64(10.080130612600001)}, {'Cluster': np.int32(221), 'Distance': np.float64(10.190824965399997)}, {'Cluster': np.int32(222), 'Distance': 0}, {'Cluster': np.int32(223), 'Distance': 0}, {'Cluster': np.int32(224), 'Distance': 0}, {'Cluster': np.int32(225), 'Distance': 0}, {'Cluster': np.int32(226), 'Distance': 0}, {'Cluster': np.int32(227), 'Distance': 0}, {'Cluster': np.int32(228), 'Distance': 0}, {'Cluster': np.int32(229), 'Distance': 0}, {'Cluster': np.int32(230), 'Distance': 0}, {'Cluster': np.int32(231), 'Distance': 0}, {'Cluster': np.int32(232), 'Distance': 0}, {'Cluster': np.int32(233), 'Distance': 0}, {'Cluster': np.int32(234), 'Distance': 0}, {'Cluster': np.int32(235), 'Distance': 0}, {'Cluster': np.int32(236), 'Distance': 0}, {'Cluster': np.int32(237), 'Distance': 0}, {'Cluster': np.int32(238), 'Distance': 0}, {'Cluster': np.int32(239), 'Distance': 0}, {'Cluster': np.int32(240), 'Distance': 0}, {'Cluster': np.int32(241), 'Distance': 0}, {'Cluster': np.int32(242), 'Distance': 0}, {'Cluster': np.int32(243), 'Distance': 0}, {'Cluster': np.int32(244), 'Distance': 0}, {'Cluster': np.int32(245), 'Distance': 0}, {'Cluster': np.int32(246), 'Distance': 0}, {'Cluster': np.int32(247), 'Distance': 0}, {'Cluster': np.int32(248), 'Distance': 0}, {'Cluster': np.int32(249), 'Distance': 0}, {'Cluster': np.int32(250), 'Distance': 0}, {'Cluster': np.int32(251), 'Distance': 0}, {'Cluster': np.int32(252), 'Distance': 0}, {'Cluster': np.int32(253), 'Distance': 0}, {'Cluster': np.int32(254), 'Distance': 0}, {'Cluster': np.int32(255), 'Distance': 0}, {'Cluster': np.int32(256), 'Distance': 0}, {'Cluster': np.int32(257), 'Distance': 0}, {'Cluster': np.int32(258), 'Distance': 0}, {'Cluster': np.int32(259), 'Distance': 0}, {'Cluster': np.int32(260), 'Distance': 0}, {'Cluster': np.int32(261), 'Distance': 0}, {'Cluster': np.int32(262), 'Distance': 0}, {'Cluster': np.int32(263), 'Distance': 0}, {'Cluster': np.int32(264), 'Distance': 0}, {'Cluster': np.int32(265), 'Distance': 0}, {'Cluster': np.int32(266), 'Distance': 0}, {'Cluster': np.int32(267), 'Distance': 0}, {'Cluster': np.int32(268), 'Distance': 0}, {'Cluster': np.int32(269), 'Distance': 0}, {'Cluster': np.int32(270), 'Distance': 0}, {'Cluster': np.int32(271), 'Distance': 0}, {'Cluster': np.int32(272), 'Distance': 0}, {'Cluster': np.int32(273), 'Distance': 0}, {'Cluster': np.int32(274), 'Distance': 0}, {'Cluster': np.int32(275), 'Distance': 0}, {'Cluster': np.int32(276), 'Distance': 0}, {'Cluster': np.int32(277), 'Distance': np.float64(5.598446183999997)}, {'Cluster': np.int32(278), 'Distance': 0}, {'Cluster': np.int32(279), 'Distance': 0}, {'Cluster': np.int32(280), 'Distance': np.float64(17.468209525600003)}, {'Cluster': np.int32(281), 'Distance': 0}, {'Cluster': np.int32(282), 'Distance': 0}, {'Cluster': np.int32(283), 'Distance': 0}, {'Cluster': np.int32(284), 'Distance': 0}, {'Cluster': np.int32(285), 'Distance': 0}, {'Cluster': np.int32(286), 'Distance': 0}, {'Cluster': np.int32(287), 'Distance': 0}, {'Cluster': np.int32(288), 'Distance': 0}, {'Cluster': np.int32(289), 'Distance': 0}, {'Cluster': np.int32(290), 'Distance': 0}, {'Cluster': np.int32(291), 'Distance': 0}, {'Cluster': np.int32(292), 'Distance': 0}, {'Cluster': np.int32(293), 'Distance': 0}, {'Cluster': np.int32(294), 'Distance': 0}, {'Cluster': np.int32(295), 'Distance': 0}, {'Cluster': np.int32(296), 'Distance': 0}, {'Cluster': np.int32(297), 'Distance': np.float64(10.498918968200002)}, {'Cluster': np.int32(298), 'Distance': 0}, {'Cluster': np.int32(299), 'Distance': 0}, {'Cluster': np.int32(300), 'Distance': 0}, {'Cluster': np.int32(301), 'Distance': 0}, {'Cluster': np.int32(302), 'Distance': 0}, {'Cluster': np.int32(303), 'Distance': 0}, {'Cluster': np.int32(304), 'Distance': 0}, {'Cluster': np.int32(305), 'Distance': 0}, {'Cluster': np.int32(306), 'Distance': 0}, {'Cluster': np.int32(307), 'Distance': 0}, {'Cluster': np.int32(308), 'Distance': 0}, {'Cluster': np.int32(309), 'Distance': 0}, {'Cluster': np.int32(310), 'Distance': 0}, {'Cluster': np.int32(311), 'Distance': 0}, {'Cluster': np.int32(312), 'Distance': 0}, {'Cluster': np.int32(313), 'Distance': 0}, {'Cluster': np.int32(314), 'Distance': 0}, {'Cluster': np.int32(315), 'Distance': 0}, {'Cluster': np.int32(316), 'Distance': 0}, {'Cluster': np.int32(317), 'Distance': 0}, {'Cluster': np.int32(318), 'Distance': 0}, {'Cluster': np.int32(319), 'Distance': 0}, {'Cluster': np.int32(320), 'Distance': 0}, {'Cluster': np.int32(321), 'Distance': 0}, {'Cluster': np.int32(322), 'Distance': 0}, {'Cluster': np.int32(323), 'Distance': 0}, {'Cluster': np.int32(324), 'Distance': 0}, {'Cluster': np.int32(325), 'Distance': 0}, {'Cluster': np.int32(326), 'Distance': 0}, {'Cluster': np.int32(327), 'Distance': 0}, {'Cluster': np.int32(328), 'Distance': 0}, {'Cluster': np.int32(329), 'Distance': 0}, {'Cluster': np.int32(330), 'Distance': 0}, {'Cluster': np.int32(331), 'Distance': 0}, {'Cluster': np.int32(332), 'Distance': 0}, {'Cluster': np.int32(333), 'Distance': 0}, {'Cluster': np.int32(334), 'Distance': 0}, {'Cluster': np.int32(335), 'Distance': 0}, {'Cluster': np.int32(336), 'Distance': 0}, {'Cluster': np.int32(337), 'Distance': 0}, {'Cluster': np.int32(338), 'Distance': 0}, {'Cluster': np.int32(339), 'Distance': 0}, {'Cluster': np.int32(340), 'Distance': 0}, {'Cluster': np.int32(341), 'Distance': 0}, {'Cluster': np.int32(342), 'Distance': 0}, {'Cluster': np.int32(343), 'Distance': 0}, {'Cluster': np.int32(344), 'Distance': 0}, {'Cluster': np.int32(345), 'Distance': 0}, {'Cluster': np.int32(346), 'Distance': 0}, {'Cluster': np.int32(347), 'Distance': 0}, {'Cluster': np.int32(348), 'Distance': 0}, {'Cluster': np.int32(349), 'Distance': 0}, {'Cluster': np.int32(350), 'Distance': 0}, {'Cluster': np.int32(351), 'Distance': 0}, {'Cluster': np.int32(352), 'Distance': 0}, {'Cluster': np.int32(353), 'Distance': 0}, {'Cluster': np.int32(354), 'Distance': 0}, {'Cluster': np.int32(355), 'Distance': 0}, {'Cluster': np.int32(356), 'Distance': 0}, {'Cluster': np.int32(357), 'Distance': 0}, {'Cluster': np.int32(358), 'Distance': 0}, {'Cluster': np.int32(359), 'Distance': 0}, {'Cluster': np.int32(360), 'Distance': 0}, {'Cluster': np.int32(361), 'Distance': np.float64(12.37966899520002)}, {'Cluster': np.int32(362), 'Distance': 0}, {'Cluster': np.int32(363), 'Distance': 0}, {'Cluster': np.int32(364), 'Distance': 0}, {'Cluster': np.int32(365), 'Distance': 0}, {'Cluster': np.int32(366), 'Distance': 0}, {'Cluster': np.int32(367), 'Distance': 0}, {'Cluster': np.int32(368), 'Distance': 0}, {'Cluster': np.int32(369), 'Distance': 0}, {'Cluster': np.int32(370), 'Distance': 0}, {'Cluster': np.int32(371), 'Distance': 0}, {'Cluster': np.int32(372), 'Distance': 0}, {'Cluster': np.int32(373), 'Distance': 0}, {'Cluster': np.int32(374), 'Distance': 0}, {'Cluster': np.int32(375), 'Distance': 0}, {'Cluster': np.int32(376), 'Distance': 0}, {'Cluster': np.int32(377), 'Distance': 0}, {'Cluster': np.int32(378), 'Distance': 0}, {'Cluster': np.int32(379), 'Distance': 0}, {'Cluster': np.int32(380), 'Distance': 0}, {'Cluster': np.int32(381), 'Distance': 0}, {'Cluster': np.int32(382), 'Distance': 0}, {'Cluster': np.int32(383), 'Distance': 0}, {'Cluster': np.int32(384), 'Distance': 0}, {'Cluster': np.int32(385), 'Distance': 0}, {'Cluster': np.int32(386), 'Distance': 0}, {'Cluster': np.int32(387), 'Distance': 0}, {'Cluster': np.int32(388), 'Distance': 0}, {'Cluster': np.int32(389), 'Distance': 0}, {'Cluster': np.int32(390), 'Distance': 0}, {'Cluster': np.int32(391), 'Distance': 0}, {'Cluster': np.int32(392), 'Distance': np.float64(13.894311217699993)}, {'Cluster': np.int32(393), 'Distance': 0}, {'Cluster': np.int32(394), 'Distance': 0}, {'Cluster': np.int32(395), 'Distance': 0}, {'Cluster': np.int32(396), 'Distance': 0}, {'Cluster': np.int32(397), 'Distance': 0}, {'Cluster': np.int32(398), 'Distance': 0}, {'Cluster': np.int32(399), 'Distance': 0}, {'Cluster': np.int32(400), 'Distance': 0}, {'Cluster': np.int32(401), 'Distance': 0}, {'Cluster': np.int32(402), 'Distance': 0}, {'Cluster': np.int32(403), 'Distance': 0}, {'Cluster': np.int32(404), 'Distance': 0}, {'Cluster': np.int32(405), 'Distance': 0}, {'Cluster': np.int32(406), 'Distance': 0}, {'Cluster': np.int32(407), 'Distance': 0}, {'Cluster': np.int32(408), 'Distance': 0}, {'Cluster': np.int32(409), 'Distance': 0}, {'Cluster': np.int32(410), 'Distance': 0}, {'Cluster': np.int32(411), 'Distance': 0}, {'Cluster': np.int32(412), 'Distance': 0}, {'Cluster': np.int32(413), 'Distance': 0}, {'Cluster': np.int32(414), 'Distance': 0}, {'Cluster': np.int32(415), 'Distance': 0}, {'Cluster': np.int32(416), 'Distance': 0}, {'Cluster': np.int32(417), 'Distance': 0}, {'Cluster': np.int32(418), 'Distance': 0}, {'Cluster': np.int32(419), 'Distance': 0}, {'Cluster': np.int32(420), 'Distance': 0}, {'Cluster': np.int32(421), 'Distance': 0}, {'Cluster': np.int32(422), 'Distance': 0}, {'Cluster': np.int32(423), 'Distance': 0}, {'Cluster': np.int32(424), 'Distance': 0}, {'Cluster': np.int32(425), 'Distance': 0}, {'Cluster': np.int32(426), 'Distance': 0}, {'Cluster': np.int32(427), 'Distance': 0}, {'Cluster': np.int32(428), 'Distance': 0}, {'Cluster': np.int32(429), 'Distance': 0}, {'Cluster': np.int32(430), 'Distance': 0}, {'Cluster': np.int32(431), 'Distance': 0}, {'Cluster': np.int32(432), 'Distance': 0}, {'Cluster': np.int32(433), 'Distance': 0}, {'Cluster': np.int32(434), 'Distance': 0}, {'Cluster': np.int32(435), 'Distance': 0}, {'Cluster': np.int32(436), 'Distance': 0}, {'Cluster': np.int32(437), 'Distance': 0}, {'Cluster': np.int32(438), 'Distance': 0}, {'Cluster': np.int32(439), 'Distance': 0}, {'Cluster': np.int32(440), 'Distance': 0}, {'Cluster': np.int32(441), 'Distance': 0}, {'Cluster': np.int32(442), 'Distance': 0}, {'Cluster': np.int32(443), 'Distance': 0}, {'Cluster': np.int32(444), 'Distance': 0}, {'Cluster': np.int32(445), 'Distance': 0}, {'Cluster': np.int32(446), 'Distance': 0}, {'Cluster': np.int32(447), 'Distance': 0}, {'Cluster': np.int32(448), 'Distance': 0}, {'Cluster': np.int32(449), 'Distance': 0}, {'Cluster': np.int32(450), 'Distance': 0}, {'Cluster': np.int32(451), 'Distance': 0}, {'Cluster': np.int32(452), 'Distance': 0}, {'Cluster': np.int32(453), 'Distance': 0}, {'Cluster': np.int32(454), 'Distance': 0}, {'Cluster': np.int32(455), 'Distance': 0}, {'Cluster': np.int32(456), 'Distance': 0}, {'Cluster': np.int32(457), 'Distance': 0}, {'Cluster': np.int32(458), 'Distance': 0}, {'Cluster': np.int32(459), 'Distance': 0}, {'Cluster': np.int32(460), 'Distance': 0}, {'Cluster': np.int32(461), 'Distance': 0}, {'Cluster': np.int32(462), 'Distance': 0}, {'Cluster': np.int32(463), 'Distance': 0}, {'Cluster': np.int32(464), 'Distance': 0}, {'Cluster': np.int32(465), 'Distance': 0}, {'Cluster': np.int32(466), 'Distance': 0}, {'Cluster': np.int32(467), 'Distance': 0}, {'Cluster': np.int32(468), 'Distance': 0}, {'Cluster': np.int32(469), 'Distance': 0}, {'Cluster': np.int32(470), 'Distance': 0}, {'Cluster': np.int32(471), 'Distance': 0}, {'Cluster': np.int32(472), 'Distance': 0}, {'Cluster': np.int32(473), 'Distance': 0}, {'Cluster': np.int32(474), 'Distance': np.float64(12.488155132900005)}, {'Cluster': np.int32(475), 'Distance': 0}, {'Cluster': np.int32(476), 'Distance': 0}, {'Cluster': np.int32(477), 'Distance': 0}, {'Cluster': np.int32(478), 'Distance': 0}, {'Cluster': np.int32(479), 'Distance': 0}, {'Cluster': np.int32(480), 'Distance': 0}, {'Cluster': np.int32(481), 'Distance': 0}, {'Cluster': np.int32(482), 'Distance': 0}, {'Cluster': np.int32(483), 'Distance': 0}, {'Cluster': np.int32(484), 'Distance': 0}, {'Cluster': np.int32(485), 'Distance': 0}, {'Cluster': np.int32(486), 'Distance': 0}, {'Cluster': np.int32(487), 'Distance': 0}, {'Cluster': np.int32(488), 'Distance': 0}, {'Cluster': np.int32(489), 'Distance': 0}, {'Cluster': np.int32(490), 'Distance': 0}, {'Cluster': np.int32(491), 'Distance': 0}, {'Cluster': np.int32(492), 'Distance': 0}, {'Cluster': np.int32(493), 'Distance': 0}, {'Cluster': np.int32(494), 'Distance': 0}, {'Cluster': np.int32(495), 'Distance': 0}, {'Cluster': np.int32(496), 'Distance': 0}, {'Cluster': np.int32(497), 'Distance': 0}, {'Cluster': np.int32(498), 'Distance': 0}, {'Cluster': np.int32(499), 'Distance': 0}, {'Cluster': np.int32(500), 'Distance': 0}, {'Cluster': np.int32(501), 'Distance': 0}, {'Cluster': np.int32(502), 'Distance': 0}, {'Cluster': np.int32(503), 'Distance': 0}, {'Cluster': np.int32(504), 'Distance': 0}, {'Cluster': np.int32(505), 'Distance': 0}, {'Cluster': np.int32(506), 'Distance': 0}, {'Cluster': np.int32(507), 'Distance': 0}, {'Cluster': np.int32(508), 'Distance': 0}, {'Cluster': np.int32(509), 'Distance': 0}, {'Cluster': np.int32(510), 'Distance': 0}, {'Cluster': np.int32(511), 'Distance': 0}, {'Cluster': np.int32(512), 'Distance': 0}, {'Cluster': np.int32(513), 'Distance': 0}, {'Cluster': np.int32(514), 'Distance': 0}, {'Cluster': np.int32(515), 'Distance': 0}, {'Cluster': np.int32(516), 'Distance': 0}, {'Cluster': np.int32(517), 'Distance': 0}, {'Cluster': np.int32(518), 'Distance': 0}, {'Cluster': np.int32(519), 'Distance': 0}, {'Cluster': np.int32(520), 'Distance': 0}, {'Cluster': np.int32(521), 'Distance': 0}, {'Cluster': np.int32(522), 'Distance': 0}, {'Cluster': np.int32(523), 'Distance': 0}, {'Cluster': np.int32(524), 'Distance': 0}, {'Cluster': np.int32(525), 'Distance': 0}, {'Cluster': np.int32(526), 'Distance': 0}, {'Cluster': np.int32(527), 'Distance': 0}, {'Cluster': np.int32(528), 'Distance': 0}, {'Cluster': np.int32(529), 'Distance': 0}, {'Cluster': np.int32(530), 'Distance': 0}, {'Cluster': np.int32(531), 'Distance': 0}, {'Cluster': np.int32(532), 'Distance': 0}, {'Cluster': np.int32(533), 'Distance': 0}, {'Cluster': np.int32(534), 'Distance': 0}, {'Cluster': np.int32(535), 'Distance': 0}, {'Cluster': np.int32(536), 'Distance': 0}, {'Cluster': np.int32(537), 'Distance': 0}, {'Cluster': np.int32(538), 'Distance': 0}, {'Cluster': np.int32(539), 'Distance': 0}, {'Cluster': np.int32(540), 'Distance': 0}, {'Cluster': np.int32(541), 'Distance': 0}, {'Cluster': np.int32(542), 'Distance': 0}, {'Cluster': np.int32(543), 'Distance': 0}, {'Cluster': np.int32(544), 'Distance': 0}, {'Cluster': np.int32(545), 'Distance': 0}, {'Cluster': np.int32(546), 'Distance': 0}, {'Cluster': np.int32(547), 'Distance': 0}, {'Cluster': np.int32(548), 'Distance': 0}, {'Cluster': np.int32(549), 'Distance': 0}]\n"
     ]
    }
   ],
   "source": [
    "all_distances = []\n",
    "\n",
    "for cluster_id, cluster_samples in avg_samples_per_cluster.items():\n",
    "    # print(f\"Cluster ID: {cluster_id}, Samples: {cluster_samples}\")\n",
    "\n",
    "    distances = get_pairwise_distances_within_cluster(cluster_samples, distance_matrix.values)\n",
    "\n",
    "    for distance in distances:\n",
    "        all_distances.append({'Cluster': cluster_id, 'Distance': distance})\n",
    "\n",
    "print (all_distances)"
   ]
  },
  {
   "cell_type": "code",
   "execution_count": 114,
   "metadata": {
    "tags": []
   },
   "outputs": [
    {
     "data": {
      "text/plain": [
       "{'sample0': np.int32(1),\n",
       " 'sample1': np.int32(1),\n",
       " 'sample10': np.int32(1),\n",
       " 'sample100': np.int32(2),\n",
       " 'sample101': np.int32(1),\n",
       " 'sample102': np.int32(1),\n",
       " 'sample103': np.int32(1),\n",
       " 'sample104': np.int32(1),\n",
       " 'sample105': np.int32(1),\n",
       " 'sample106': np.int32(1)}"
      ]
     },
     "execution_count": 114,
     "metadata": {},
     "output_type": "execute_result"
    }
   ],
   "source": [
    "dict(zip(submatrix.index, fcluster(cl, 18, 'distance')))"
   ]
  },
  {
   "cell_type": "code",
   "execution_count": 115,
   "metadata": {
    "tags": []
   },
   "outputs": [
    {
     "data": {
      "text/html": [
       "<div>\n",
       "<style scoped>\n",
       "    .dataframe tbody tr th:only-of-type {\n",
       "        vertical-align: middle;\n",
       "    }\n",
       "\n",
       "    .dataframe tbody tr th {\n",
       "        vertical-align: top;\n",
       "    }\n",
       "\n",
       "    .dataframe thead th {\n",
       "        text-align: right;\n",
       "    }\n",
       "</style>\n",
       "<table border=\"1\" class=\"dataframe\">\n",
       "  <thead>\n",
       "    <tr style=\"text-align: right;\">\n",
       "      <th></th>\n",
       "      <th>ss1</th>\n",
       "      <th>ss2</th>\n",
       "      <th>distance</th>\n",
       "      <th>ss1c</th>\n",
       "      <th>ss2c</th>\n",
       "    </tr>\n",
       "  </thead>\n",
       "  <tbody>\n",
       "    <tr>\n",
       "      <th>60</th>\n",
       "      <td>sample0</td>\n",
       "      <td>sample104</td>\n",
       "      <td>7.824951</td>\n",
       "      <td>1</td>\n",
       "      <td>6</td>\n",
       "    </tr>\n",
       "    <tr>\n",
       "      <th>30</th>\n",
       "      <td>sample0</td>\n",
       "      <td>sample106</td>\n",
       "      <td>8.462670</td>\n",
       "      <td>1</td>\n",
       "      <td>3</td>\n",
       "    </tr>\n",
       "    <tr>\n",
       "      <th>40</th>\n",
       "      <td>sample0</td>\n",
       "      <td>sample101</td>\n",
       "      <td>8.820129</td>\n",
       "      <td>1</td>\n",
       "      <td>4</td>\n",
       "    </tr>\n",
       "  </tbody>\n",
       "</table>\n",
       "</div>"
      ],
      "text/plain": [
       "        ss1        ss2  distance  ss1c  ss2c\n",
       "60  sample0  sample104  7.824951     1     6\n",
       "30  sample0  sample106  8.462670     1     3\n",
       "40  sample0  sample101  8.820129     1     4"
      ]
     },
     "execution_count": 115,
     "metadata": {},
     "output_type": "execute_result"
    }
   ],
   "source": [
    "matrix, clustering = res\n",
    "nclusters = len(set(clustering.values()))\n",
    "\n",
    "matrix = matrix.melt(ignore_index=False, value_name='distance').reset_index()\n",
    "matrix['ss1c'] = matrix['ss1'].apply(lambda key: clustering[key])\n",
    "matrix['ss2c'] = matrix['ss2'].apply(lambda key: clustering[key])\n",
    "\n",
    "smatrix = matrix[matrix['ss1'] != matrix['ss2']]\n",
    "notsame_smatrix = smatrix[smatrix['ss1c'] != smatrix['ss2c']]\n",
    "notsame_smatrix.sort_values('distance').head(3)"
   ]
  },
  {
   "cell_type": "code",
   "execution_count": 116,
   "metadata": {},
   "outputs": [
    {
     "data": {
      "text/html": [
       "<div>\n",
       "<style scoped>\n",
       "    .dataframe tbody tr th:only-of-type {\n",
       "        vertical-align: middle;\n",
       "    }\n",
       "\n",
       "    .dataframe tbody tr th {\n",
       "        vertical-align: top;\n",
       "    }\n",
       "\n",
       "    .dataframe thead th {\n",
       "        text-align: right;\n",
       "    }\n",
       "</style>\n",
       "<table border=\"1\" class=\"dataframe\">\n",
       "  <thead>\n",
       "    <tr style=\"text-align: right;\">\n",
       "      <th></th>\n",
       "      <th>ss1</th>\n",
       "      <th>ss2</th>\n",
       "      <th>distance</th>\n",
       "      <th>ss1c</th>\n",
       "      <th>ss2c</th>\n",
       "    </tr>\n",
       "  </thead>\n",
       "  <tbody>\n",
       "    <tr>\n",
       "      <th>45</th>\n",
       "      <td>sample103</td>\n",
       "      <td>sample101</td>\n",
       "      <td>10.772144</td>\n",
       "      <td>5</td>\n",
       "      <td>4</td>\n",
       "    </tr>\n",
       "    <tr>\n",
       "      <th>46</th>\n",
       "      <td>sample104</td>\n",
       "      <td>sample101</td>\n",
       "      <td>14.065797</td>\n",
       "      <td>6</td>\n",
       "      <td>4</td>\n",
       "    </tr>\n",
       "    <tr>\n",
       "      <th>54</th>\n",
       "      <td>sample101</td>\n",
       "      <td>sample103</td>\n",
       "      <td>12.456527</td>\n",
       "      <td>4</td>\n",
       "      <td>5</td>\n",
       "    </tr>\n",
       "    <tr>\n",
       "      <th>56</th>\n",
       "      <td>sample104</td>\n",
       "      <td>sample103</td>\n",
       "      <td>13.513043</td>\n",
       "      <td>6</td>\n",
       "      <td>5</td>\n",
       "    </tr>\n",
       "    <tr>\n",
       "      <th>64</th>\n",
       "      <td>sample101</td>\n",
       "      <td>sample104</td>\n",
       "      <td>14.210590</td>\n",
       "      <td>4</td>\n",
       "      <td>6</td>\n",
       "    </tr>\n",
       "    <tr>\n",
       "      <th>65</th>\n",
       "      <td>sample103</td>\n",
       "      <td>sample104</td>\n",
       "      <td>12.019250</td>\n",
       "      <td>5</td>\n",
       "      <td>6</td>\n",
       "    </tr>\n",
       "  </tbody>\n",
       "</table>\n",
       "</div>"
      ],
      "text/plain": [
       "          ss1        ss2   distance  ss1c  ss2c\n",
       "45  sample103  sample101  10.772144     5     4\n",
       "46  sample104  sample101  14.065797     6     4\n",
       "54  sample101  sample103  12.456527     4     5\n",
       "56  sample104  sample103  13.513043     6     5\n",
       "64  sample101  sample104  14.210590     4     6\n",
       "65  sample103  sample104  12.019250     5     6"
      ]
     },
     "execution_count": 116,
     "metadata": {},
     "output_type": "execute_result"
    }
   ],
   "source": [
    "names = ['sample101', 'sample103', 'sample104']\n",
    "smatrix[(smatrix['ss1'].isin(names)) & (smatrix['ss2'].isin(names))]"
   ]
  },
  {
   "cell_type": "code",
   "execution_count": 117,
   "metadata": {
    "tags": []
   },
   "outputs": [
    {
     "data": {
      "text/html": [
       "<div>\n",
       "<style scoped>\n",
       "    .dataframe tbody tr th:only-of-type {\n",
       "        vertical-align: middle;\n",
       "    }\n",
       "\n",
       "    .dataframe tbody tr th {\n",
       "        vertical-align: top;\n",
       "    }\n",
       "\n",
       "    .dataframe thead th {\n",
       "        text-align: right;\n",
       "    }\n",
       "</style>\n",
       "<table border=\"1\" class=\"dataframe\">\n",
       "  <thead>\n",
       "    <tr style=\"text-align: right;\">\n",
       "      <th></th>\n",
       "      <th>ss1</th>\n",
       "      <th>ss2</th>\n",
       "      <th>distance</th>\n",
       "      <th>ss1c</th>\n",
       "      <th>ss2c</th>\n",
       "    </tr>\n",
       "  </thead>\n",
       "  <tbody>\n",
       "    <tr>\n",
       "      <th>1</th>\n",
       "      <td>sample1</td>\n",
       "      <td>sample0</td>\n",
       "      <td>5.230214</td>\n",
       "      <td>1</td>\n",
       "      <td>1</td>\n",
       "    </tr>\n",
       "    <tr>\n",
       "      <th>10</th>\n",
       "      <td>sample0</td>\n",
       "      <td>sample1</td>\n",
       "      <td>1.912122</td>\n",
       "      <td>1</td>\n",
       "      <td>1</td>\n",
       "    </tr>\n",
       "  </tbody>\n",
       "</table>\n",
       "</div>"
      ],
      "text/plain": [
       "        ss1      ss2  distance  ss1c  ss2c\n",
       "1   sample1  sample0  5.230214     1     1\n",
       "10  sample0  sample1  1.912122     1     1"
      ]
     },
     "execution_count": 117,
     "metadata": {},
     "output_type": "execute_result"
    }
   ],
   "source": [
    "same_smatrix = smatrix[smatrix['ss1c'] == smatrix['ss2c']]\n",
    "same_smatrix[same_smatrix['ss1c'].isin((1, 6))]"
   ]
  },
  {
   "cell_type": "code",
   "execution_count": 119,
   "metadata": {
    "tags": []
   },
   "outputs": [],
   "source": [
    "# clustering = cluster_function(distance_matrix, ** kwargs)"
   ]
  },
  {
   "cell_type": "code",
   "execution_count": 118,
   "metadata": {
    "tags": []
   },
   "outputs": [
    {
     "data": {
      "text/html": [
       "<div>\n",
       "<style scoped>\n",
       "    .dataframe tbody tr th:only-of-type {\n",
       "        vertical-align: middle;\n",
       "    }\n",
       "\n",
       "    .dataframe tbody tr th {\n",
       "        vertical-align: top;\n",
       "    }\n",
       "\n",
       "    .dataframe thead th {\n",
       "        text-align: right;\n",
       "    }\n",
       "</style>\n",
       "<table border=\"1\" class=\"dataframe\">\n",
       "  <thead>\n",
       "    <tr style=\"text-align: right;\">\n",
       "      <th></th>\n",
       "      <th>ss1</th>\n",
       "      <th>ss2</th>\n",
       "      <th>distance</th>\n",
       "      <th>ss1c</th>\n",
       "      <th>ss2c</th>\n",
       "    </tr>\n",
       "  </thead>\n",
       "  <tbody>\n",
       "    <tr>\n",
       "      <th>61</th>\n",
       "      <td>sample1</td>\n",
       "      <td>sample104</td>\n",
       "      <td>9.682086</td>\n",
       "      <td>1</td>\n",
       "      <td>6</td>\n",
       "    </tr>\n",
       "  </tbody>\n",
       "</table>\n",
       "</div>"
      ],
      "text/plain": [
       "        ss1        ss2  distance  ss1c  ss2c\n",
       "61  sample1  sample104  9.682086     1     6"
      ]
     },
     "execution_count": 118,
     "metadata": {},
     "output_type": "execute_result"
    }
   ],
   "source": [
    "smatrix[(smatrix['ss1'] == 'sample1') & (smatrix['ss2'] == 'sample104')]"
   ]
  },
  {
   "cell_type": "code",
   "execution_count": 120,
   "metadata": {
    "tags": []
   },
   "outputs": [
    {
     "data": {
      "text/plain": [
       "<Axes: xlabel='min', ylabel='method'>"
      ]
     },
     "execution_count": 120,
     "metadata": {},
     "output_type": "execute_result"
    },
    {
     "data": {
      "image/png": "[encoded data removed]",
      "text/plain": [
       "<Figure size 640x480 with 1 Axes>"
      ]
     },
     "metadata": {},
     "output_type": "display_data"
    }
   ],
   "source": [
    "sns.boxplot(allres_inter, y='method', x='min')"
   ]
  },
  {
   "cell_type": "code",
   "execution_count": 121,
   "metadata": {
    "tags": []
   },
   "outputs": [
    {
     "data": {
      "text/plain": [
       "<Axes: xlabel='mean', ylabel='method'>"
      ]
     },
     "execution_count": 121,
     "metadata": {},
     "output_type": "execute_result"
    },
    {
     "data": {
      "image/png": "[encoded data removed]",
      "text/plain": [
       "<Figure size 640x480 with 1 Axes>"
      ]
     },
     "metadata": {},
     "output_type": "display_data"
    }
   ],
   "source": [
    "sns.boxplot(allres_intra, y='method', x='mean')"
   ]
  },
  {
   "cell_type": "code",
   "execution_count": 122,
   "metadata": {
    "tags": []
   },
   "outputs": [
    {
     "data": {
      "text/plain": [
       "<Axes: xlabel='nclusters', ylabel='method'>"
      ]
     },
     "execution_count": 122,
     "metadata": {},
     "output_type": "execute_result"
    },
    {
     "data": {
      "image/png": "[encoded data removed]",
      "text/plain": [
       "<Figure size 640x480 with 1 Axes>"
      ]
     },
     "metadata": {},
     "output_type": "display_data"
    }
   ],
   "source": [
    "sns.barplot(allres_ncluster, y='method', x='nclusters')"
   ]
  },
  {
   "cell_type": "code",
   "execution_count": null,
   "metadata": {},
   "outputs": [],
   "source": []
  },
  {
   "cell_type": "code",
   "execution_count": null,
   "metadata": {},
   "outputs": [],
   "source": []
  },
  {
   "cell_type": "code",
   "execution_count": null,
   "metadata": {},
   "outputs": [],
   "source": []
  }
 ],
 "metadata": {
  "kernelspec": {
   "display_name": "Python 3",
   "language": "python",
   "name": "python3"
  },
  "language_info": {
   "codemirror_mode": {
    "name": "ipython",
    "version": 3
   },
   "file_extension": ".py",
   "mimetype": "text/x-python",
   "name": "python",
   "nbconvert_exporter": "python",
   "pygments_lexer": "ipython3",
   "version": "3.12.3"
  }
 },
 "nbformat": 4,
 "nbformat_minor": 4
}
